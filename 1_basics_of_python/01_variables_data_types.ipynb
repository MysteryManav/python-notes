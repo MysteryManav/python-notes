{
 "cells": [
  {
   "cell_type": "markdown",
   "metadata": {},
   "source": [
    "# Unit - 1\n",
    "## Basics of Python\n",
    "\n",
    "**Content**:  \n",
    "\n",
    "    1. Python Installation  \n",
    "    2. Python Editors  \n",
    "    3. Variables  \n",
    "    4. Data Types  \n",
    "    5. Operators  \n",
    "\n",
    "Some basic functions before we start:\n",
    "\n",
    "    1. print() - To print the data in the paranthesis.\n",
    "    2. input() - To take input from the user."
   ]
  },
  {
   "cell_type": "code",
   "execution_count": 2,
   "metadata": {},
   "outputs": [
    {
     "name": "stdout",
     "output_type": "stream",
     "text": [
      "This is how we use a print function\n",
      "This is how we use input function and print the input data, name\n",
      "The a_variable is a variable, that we will learn afterwards. The 'f' before strings in print() is used to make a f-string. Read the next cell for more detail\n"
     ]
    }
   ],
   "source": [
    "# This is how we use comments in Python. This is a single line comment\n",
    "\n",
    "print(\"This is how we use a print function\")\n",
    "\n",
    "a_variable = input(\"Enter your name: \")\n",
    "print(f\"This is how we use input function and print the input data, {a_variable}\")\n",
    "\n",
    "print(\"The a_variable is a variable, that we will learn afterwards. The 'f' before strings in print() is used to make a f-string. Read the next cell for more detail\")"
   ]
  },
  {
   "cell_type": "markdown",
   "metadata": {},
   "source": [
    "#### f-string\n",
    "\n",
    "Before we move on, we will first introduce f-strings as they are very helpful in string representation and formatting.\n",
    "\n",
    "f-strings are strings that start with 'f' before their quotation marks, i.e., f'a_string' - is a f-string.\n",
    "\n",
    "f-strings are used to write variables' value in the string directly instead of using format() function or string concatenation. They can also be used to perform simple operations in a string and store the output directly. To perform a simple operation or get the value of a variable in a string, use the '{}' at the desired location and write the variable name in the '{}'\n",
    "\n",
    "Example:  \n",
    "a = 'name'  \n",
    "print(f'This is my {a}')\n",
    "\n",
    "The above statement will print - 'This is my name' rather than 'This is my a', as we have used f-string, so the data in '{}' will be identified as python code and not string and hence the value of variable 'a' will be returned and stored in the string. Like this...."
   ]
  },
  {
   "cell_type": "code",
   "execution_count": 3,
   "metadata": {},
   "outputs": [
    {
     "name": "stdout",
     "output_type": "stream",
     "text": [
      "This is a Name\n"
     ]
    }
   ],
   "source": [
    "a = \"Name\"\n",
    "print(f\"This is a {a}\")"
   ]
  },
  {
   "cell_type": "markdown",
   "metadata": {},
   "source": [
    "### Variables\n",
    "\n",
    "Definition:\n",
    "\n",
    "Rules for a Variable/Identifiers' Name:  \n",
    "\n",
    "    - It must start with a letter or underscore.  \n",
    "    - It cannot start with a number.  \n",
    "    - It must only contain alphanumeric or underscore characters.  \n",
    "    - They are Case-Sensitive.  \n",
    "    - It cannot be a python keyword.  \n",
    "    - It should not contain space in between.  \n",
    "\n",
    "Example of Valid Identifiers/Variables:  \n",
    "\n",
    "    a = 20  \n",
    "    x = \"CSE\"  \n",
    "    y = 10.5  \n",
    "\n",
    "Example of Invalid Identifiers/Variables:  \n",
    "\n",
    "    1a = 20  \n",
    "    ?x = \"CSE\"  \n",
    "    y 2 = 10.5  "
   ]
  },
  {
   "cell_type": "code",
   "execution_count": 4,
   "metadata": {},
   "outputs": [
    {
     "name": "stdout",
     "output_type": "stream",
     "text": [
      "a: 20, x: CSE, y: 10.5 are valid identifiers\n"
     ]
    }
   ],
   "source": [
    "# Valid Identifiers/Variables\n",
    "a = 20\n",
    "x = \"CSE\"\n",
    "y = 10.5\n",
    "print(f\"a: {a}, x: {x}, y: {y} are valid identifiers\")"
   ]
  },
  {
   "cell_type": "code",
   "execution_count": 7,
   "metadata": {},
   "outputs": [
    {
     "ename": "SyntaxError",
     "evalue": "invalid decimal literal (839595514.py, line 3)",
     "output_type": "error",
     "traceback": [
      "\u001b[1;36m  Cell \u001b[1;32mIn[7], line 3\u001b[1;36m\u001b[0m\n\u001b[1;33m    1a = 20\u001b[0m\n\u001b[1;37m    ^\u001b[0m\n\u001b[1;31mSyntaxError\u001b[0m\u001b[1;31m:\u001b[0m invalid decimal literal\n"
     ]
    }
   ],
   "source": [
    "# Invalid Identifiers/Variables\n",
    "print(f\"1a, ?x, y 2 are in-valid identifiers and will generate an error causing the code after them to not run\")\n",
    "1a = 20\n",
    "?x = \"CSE\"\n",
    "y 2 = 10.5\n",
    "print(\"Code after variables\")"
   ]
  },
  {
   "cell_type": "markdown",
   "metadata": {},
   "source": [
    "### Data Types\n",
    "\n",
    "Definition:\n",
    "\n",
    "Types:  \n",
    "\n",
    "    type: Text -> string  \n",
    "    type: Numeric -> int, float, complex  \n",
    "    type: Sequence -> list, tuple  \n",
    "    type: Mapping -> dict  \n",
    "    type: Set -> set, frozen set  \n",
    "    type: Boolean -> bool  \n",
    "\n",
    "To check the type of a function we use the **type** function"
   ]
  },
  {
   "cell_type": "code",
   "execution_count": 11,
   "metadata": {},
   "outputs": [
    {
     "name": "stdout",
     "output_type": "stream",
     "text": [
      "type of 5: <class 'int'>\n",
      "type of 10.5: <class 'float'>\n",
      "type of CSE: <class 'str'>\n",
      "type of 5: <class 'str'>\n",
      "type of True: <class 'bool'>\n",
      "type of False: <class 'bool'>\n"
     ]
    }
   ],
   "source": [
    "# Primitive or Simple Data Types:\n",
    "\n",
    "a = 5           # Int\n",
    "b = 10.5        # Float\n",
    "c = \"CSE\"       # String\n",
    "d = \"5\"         # String\n",
    "e = True        # Boolean\n",
    "f = False       # Boolean\n",
    "\n",
    "# We use the type() function to check the data type of a variable\n",
    "print(f\"type of {a}: {type(a)}\")\n",
    "print(f\"type of {b}: {type(b)}\")\n",
    "print(f\"type of {c}: {type(c)}\")\n",
    "print(f\"type of {d}: {type(d)}\")\n",
    "print(f\"type of {e}: {type(e)}\")\n",
    "print(f\"type of {f}: {type(f)}\")"
   ]
  },
  {
   "cell_type": "code",
   "execution_count": 12,
   "metadata": {},
   "outputs": [
    {
     "name": "stdout",
     "output_type": "stream",
     "text": [
      "type of [1, '2', 3.0, True, [0, 1]]: <class 'list'>\n",
      "type of (1, '2', 3.0, False, (0, 1)): <class 'tuple'>\n",
      "type of {1: '1', 2: '2', 3: 3.0, 4: True, '5': {'0': '1', '1': [1, 2, 3]}}: <class 'dict'>\n",
      "type of {False, 1, '2', 3.0}: <class 'set'>\n"
     ]
    }
   ],
   "source": [
    "# Non-Primitive Data Types:\n",
    "\n",
    "# A List\n",
    "a_list = [1, \"2\", 3.0, True, [0, 1]]\n",
    "# A Tuple\n",
    "a_tuple = (1, \"2\", 3.0, False, (0, 1))\n",
    "# A Dictionary\n",
    "a_dict = {1: \"1\", 2: \"2\", 3: 3.0, 4: True, \"5\": {\"0\": \"1\", \"1\": [1, 2, 3]}}\n",
    "# A Set\n",
    "a_set = {1, \"2\", 3.0, True, 1, \"2\", 3.0, False}\n",
    "\n",
    "# We can also use the type() function to check the data type of non-primitive data type variables.\n",
    "print(f\"type of {a_list}: {type(a_list)}\")\n",
    "print(f\"type of {a_tuple}: {type(a_tuple)}\")\n",
    "print(f\"type of {a_dict}: {type(a_dict)}\")\n",
    "print(f\"type of {a_set}: {type(a_set)}\")"
   ]
  },
  {
   "cell_type": "markdown",
   "metadata": {},
   "source": [
    "### Operators\n",
    "\n",
    "Definition:\n",
    "\n",
    "Types of Operators:  \n",
    "\n",
    "    1. Arithmetic Operators  \n",
    "    2. Assignment Operators  \n",
    "    3. Comparison Operators  \n",
    "    4. Logical Operators  \n",
    "    5. Identity Operators  \n",
    "    6. Membership Operators  \n",
    "    7. Bitwise Operators  \n",
    "\n",
    "    Arithmetic Operators:  \n",
    "\n",
    "        1. Addition (+)  \n",
    "        2. Subtraction (-)  \n",
    "        3. Multiplication (*)  \n",
    "        4. Division (/)  \n",
    "        5. Modulus (%)  \n",
    "        6. Exponentiation (**)  \n",
    "        7. Floor Division (//)  \n",
    "\n",
    "    Assignment Operators:  \n",
    "\n",
    "        1. Equal (=)  \n",
    "        2. Add and Assign (+=)  \n",
    "        3. Subtract and Assign (-=)  \n",
    "        4. Multiply and Assign (*=)  \n",
    "        5. Divide and Assign (/=)  \n",
    "        6. Modulus and Assign (%=)  \n",
    "        7. Exponent and Assign (**=)  \n",
    "        8. Floor Division and Assign (//=)  \n",
    "\n",
    "    Comparison Operators:  \n",
    "\n",
    "        1. Equal to (==)  \n",
    "        2. Not Equal to (!=)  \n",
    "        3. Greater than (>)  \n",
    "        4. Less than (<)  \n",
    "        5. Greater than or Equal to (>=)  \n",
    "        6. Less than or Equal to (<=)  \n",
    "    \n",
    "    Logical Operators:\n",
    "\n",
    "        1. and  \n",
    "        2. or  \n",
    "        3. not  \n",
    "\n",
    "    Identity Operators:\n",
    "\n",
    "        1. is  \n",
    "        2. is not  \n",
    "\n",
    "    Membership Operators:\n",
    "\n",
    "        1. in  \n",
    "        2. not in  \n",
    "\n",
    "    Bitwise Operators:\n",
    "\n",
    "        1. and (&)  \n",
    "        2. or (|)  \n",
    "        3. not (~)  \n",
    "        4. xor (^)  "
   ]
  },
  {
   "cell_type": "code",
   "execution_count": 13,
   "metadata": {},
   "outputs": [
    {
     "name": "stdout",
     "output_type": "stream",
     "text": [
      "Arithmetic Operators (a=5, b=10):\n",
      "a + b = 15\n",
      "a - b = -5\n",
      "a * b = 50\n",
      "a / b = 0.5\n",
      "a // b = 0\n",
      "a % b = 5\n",
      "a ** b = 9765625\n"
     ]
    }
   ],
   "source": [
    "# Arithmetic Operators\n",
    "a = 5\n",
    "b = 10\n",
    "\n",
    "print(f\"Arithmetic Operators (a={a}, b={b}):\")\n",
    "print(f\"a + b = {a + b}\")\n",
    "print(f\"a - b = {a - b}\")\n",
    "print(f\"a * b = {a * b}\")\n",
    "print(f\"a / b = {a / b}\")\n",
    "print(f\"a // b = {a // b}\")\n",
    "print(f\"a % b = {a % b}\")\n",
    "print(f\"a ** b = {a ** b}\")"
   ]
  },
  {
   "cell_type": "code",
   "execution_count": 14,
   "metadata": {},
   "outputs": [
    {
     "name": "stdout",
     "output_type": "stream",
     "text": [
      "Assignment Operators (a=10):\n",
      "a = 10\n",
      "a = 11\n",
      "a = 10\n",
      "a = 10\n",
      "a = 10.0\n"
     ]
    }
   ],
   "source": [
    "# Assignment Operators\n",
    "a = 10\n",
    "\n",
    "print(f\"Assignment Operators (a={a}):\")\n",
    "print(f\"a = {a}\")\n",
    "a+=1\n",
    "print(f\"a = {a}\")\n",
    "a-=1\n",
    "print(f\"a = {a}\")\n",
    "a*=1\n",
    "print(f\"a = {a}\")\n",
    "a/=1\n",
    "print(f\"a = {a}\")"
   ]
  },
  {
   "cell_type": "code",
   "execution_count": 15,
   "metadata": {},
   "outputs": [
    {
     "name": "stdout",
     "output_type": "stream",
     "text": [
      "Comparison Operators (a=5, b=4):\n",
      "a == b: False\n",
      "a != b: True\n",
      "a > b: True\n",
      "a < b: False\n",
      "a >= b: True\n",
      "a <= b: False\n"
     ]
    }
   ],
   "source": [
    "# Comparison Operators\n",
    "a = 5\n",
    "b = 4\n",
    "\n",
    "print(f\"Comparison Operators (a={a}, b={b}):\")\n",
    "print(f\"a == b: {a==b}\")\n",
    "print(f\"a != b: {a!=b}\")\n",
    "print(f\"a > b: {a>b}\")\n",
    "print(f\"a < b: {a<b}\")\n",
    "print(f\"a >= b: {a>=b}\")\n",
    "print(f\"a <= b: {a<=b}\")"
   ]
  },
  {
   "cell_type": "code",
   "execution_count": 16,
   "metadata": {},
   "outputs": [
    {
     "name": "stdout",
     "output_type": "stream",
     "text": [
      "Logical Operators (a=5):\n",
      "a > 3 and a < 10: True\n",
      "a > 3 and a < 2: False\n",
      "a > 4 or a < 3: True\n",
      "a < 4 or a < 3: False\n"
     ]
    }
   ],
   "source": [
    "# Logical Operators\n",
    "a = 5\n",
    "\n",
    "print(f\"Logical Operators (a={a}):\")\n",
    "print(f\"a > 3 and a < 10: {a > 3 and a < 10}\")\n",
    "print(f\"a > 3 and a < 2: {a > 3 and a < 2}\")\n",
    "print(f\"a > 4 or a < 3: {a > 4 or a < 3}\")\n",
    "print(f\"a < 4 or a < 3: {a < 4 or a < 3}\")"
   ]
  },
  {
   "cell_type": "code",
   "execution_count": 17,
   "metadata": {},
   "outputs": [
    {
     "name": "stdout",
     "output_type": "stream",
     "text": [
      "Identity Operators (a=10, b=20):\n",
      "a is b: False\n",
      "a is a: True\n",
      "a is c: True\n",
      "a is not b: True\n",
      "a is not a: False\n",
      "a is not c: False\n"
     ]
    }
   ],
   "source": [
    "# Identity Operators\n",
    "a = 10\n",
    "b = 20\n",
    "c = a\n",
    "\n",
    "print(f\"Identity Operators (a={a}, b={b}):\")\n",
    "print(f\"a is b: {a is b}\")\n",
    "print(f\"a is a: {a is a}\")\n",
    "print(f\"a is c: {a is c}\")\n",
    "print(f\"a is not b: {a is not b}\")\n",
    "print(f\"a is not a: {a is not a}\")\n",
    "print(f\"a is not c: {a is not c}\")"
   ]
  },
  {
   "cell_type": "code",
   "execution_count": 18,
   "metadata": {},
   "outputs": [
    {
     "name": "stdout",
     "output_type": "stream",
     "text": [
      "Membership Operators (list=['Apple', 'Banana', 'Mango']):\n",
      "Mango in fruits: True\n",
      "Mango not in fruits: False\n",
      "Tomato in fruits: False\n",
      "Tomato not in fruits: True\n",
      "N in Name: True\n",
      "N not in Name: False\n",
      "n in Name: False\n",
      "n not in Name: True\n",
      "d in Name: False\n",
      "d not in Name: True\n"
     ]
    }
   ],
   "source": [
    "# Membership Operators\n",
    "fruits = [\"Apple\", \"Banana\", \"Mango\"]\n",
    "name = \"Name\"\n",
    "\n",
    "print(f\"Membership Operators (list={fruits}):\")\n",
    "print(f\"Mango in fruits: {'Mango' in fruits}\")\n",
    "print(f\"Mango not in fruits: {'Mango' not in fruits}\")\n",
    "print(f\"Tomato in fruits: {'Tomato' in fruits}\")\n",
    "print(f\"Tomato not in fruits: {'Tomato' not in fruits}\")\n",
    "print(f\"N in Name: {'N' in name}\")\n",
    "print(f\"N not in Name: {'N' not in name}\")\n",
    "print(f\"n in Name: {'n' in name}\")\n",
    "print(f\"n not in Name: {'n' not in name}\")\n",
    "print(f\"d in Name: {'d' in name}\")\n",
    "print(f\"d not in Name: {'d' not in name}\")"
   ]
  },
  {
   "cell_type": "code",
   "execution_count": 19,
   "metadata": {},
   "outputs": [
    {
     "name": "stdout",
     "output_type": "stream",
     "text": [
      "Bitwise Operators (a=6, b=3):\n",
      "6 & 3: 2\n",
      "6 | 3: 7\n",
      "~6: -7\n",
      "~3: -4\n",
      "6 ^ 3: 5\n"
     ]
    }
   ],
   "source": [
    "# Bitwise Operators\n",
    "a = 6\n",
    "b = 3\n",
    "\n",
    "print(f\"Bitwise Operators (a={a}, b={b}):\")\n",
    "print(f\"{a} & {b}: {a & b}\")\n",
    "print(f\"{a} | {b}: {a | b}\")\n",
    "print(f\"~{a}: {~a}\")\n",
    "print(f\"~{b}: {~b}\")\n",
    "print(f\"{a} ^ {b}: {a ^ b}\")"
   ]
  }
 ],
 "metadata": {
  "kernelspec": {
   "display_name": "Python 3 (ipykernel)",
   "language": "python",
   "name": "python3"
  },
  "language_info": {
   "codemirror_mode": {
    "name": "ipython",
    "version": 3
   },
   "file_extension": ".py",
   "mimetype": "text/x-python",
   "name": "python",
   "nbconvert_exporter": "python",
   "pygments_lexer": "ipython3",
   "version": "3.11.2"
  }
 },
 "nbformat": 4,
 "nbformat_minor": 4
}
